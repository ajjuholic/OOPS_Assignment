{
  "nbformat": 4,
  "nbformat_minor": 0,
  "metadata": {
    "colab": {
      "provenance": []
    },
    "kernelspec": {
      "name": "python3",
      "display_name": "Python 3"
    },
    "language_info": {
      "name": "python"
    }
  },
  "cells": [
    {
      "cell_type": "markdown",
      "source": [
        "#                      # **Python OOPs  theory Questions**"
      ],
      "metadata": {
        "id": "SNIvQ9rEAM0L"
      }
    },
    {
      "cell_type": "markdown",
      "source": [
        "Q.1. What is Object-Oriented Programming (OOP) ?\n",
        "Ans.>> Object-Oriented Programming `(OOP)` is a programming paradigm, or a way of thinking about and structuring your code, that is based on the concept of \"objects\".\n",
        "Objects are like containers that hold both data (called attributes or properties) and the functions that operate on that data `(called methods).`\n"
      ],
      "metadata": {
        "id": "q_GlaoQoAkg6"
      }
    },
    {
      "cell_type": "markdown",
      "source": [
        "Q.2. What is a class in OOP ?\n",
        "Ans.>> In OOP, a class is a blueprint or a template for creating objects. It defines the attributes (data) and methods (functions) that objects of that class will have. Think of it like a cookie cutter –\n",
        "it defines the shape and features of the cookies (objects) you create.\n",
        "\n",
        "**Here's a breakdown:**\n",
        "\n",
        "  1. **Blueprint:** A class acts as a blueprint, specifying the structure and behavior of objects. It defines the kind of data an object will hold and the operations it can perform.\n",
        "\n",
        "  2.** Attributes:**  Attributes represent the data associated with an object. They are like variables that store information about the object. For example, a Car class might have attributes like `color`, `make`, and `model.`\n",
        "\n",
        "  3. **Methods:** Methods are functions that are associated with an object. They define the actions or operations that an object can perform. For example, a Car class might have methods like `start()`, `stop()`, and `accelerate()`.\n",
        "  \n",
        "  4. **Instantiation:** Creating an object from a class is called instantiation. When you instantiate a class, you create a specific instance of that class, which is an object."
      ],
      "metadata": {
        "id": "ktUNy-upCQl8"
      }
    },
    {
      "cell_type": "code",
      "source": [
        "# Example of Q.2 --\n",
        "class Car:\n",
        "    def __init__(self, name, model):\n",
        "        self.name = name\n",
        "        self.model = model\n",
        "\n",
        "    def popular(self):\n",
        "        print(\" Very popular and Build qulity better \")\n",
        "\n",
        "\n",
        "c1_object = Car(\" Rolls royal\", \"Rolls-Royal Phantom\")\n",
        "c1_object.popular()\n"
      ],
      "metadata": {
        "colab": {
          "base_uri": "https://localhost:8080/"
        },
        "id": "ZbLPTKoQEakn",
        "outputId": "a6e6b275-921a-4702-c706-183977a94c3e"
      },
      "execution_count": null,
      "outputs": [
        {
          "output_type": "stream",
          "name": "stdout",
          "text": [
            " Very popular and Build qulity better \n"
          ]
        }
      ]
    },
    {
      "cell_type": "markdown",
      "source": [
        "Q 3. What is an object in OOP ?\n",
        "Ans-- In OOP, an object is an instance of a class. It's a concrete realization of the blueprint defined by the class. Think of it like a specific cookie created using a cookie cutter (the class).\n",
        "\n",
        "**Here's a breakdown:**\n",
        "\n",
        "1. **Instance:** An object is an instance of a class, meaning it's a specific occurrence or example of that class.\n",
        "\n",
        "2. **State and Behavior:** An object has both state and behavior:\n",
        "\n",
        "**State:** Represented by the object's attributes (data). These attributes store information about the object's current condition.\n",
        "\n",
        "**Behavior:** Defined by the object's methods (functions). These methods determine what actions the object can perform.\n",
        "\n",
        "3. **Unique Identity:** Each object has a unique identity, even if it's created from the same class. This means two objects of the same class are distinct entities.\n",
        "\n",
        "\n"
      ],
      "metadata": {
        "id": "9I2MlmlXHY9c"
      }
    },
    {
      "cell_type": "markdown",
      "source": [
        "Q. 4. What is the difference between abstraction and encapsulation ?\n",
        "Ans-- Both abstraction and encapsulation are important concepts in OOP, but they serve different purposes and have distinct characteristics.\n",
        "\n",
        "**Abstraction:**\n",
        "\n",
        "\n",
        "*   **Focus:** Hiding complex implemention details and showing only essential information to the user.\n",
        "\n",
        "*  ** Goal:**\n",
        "            Simplify things for the user and make the code easier to understand and use .\n",
        "*   **How it work :**\n",
        "            By providing a high-level interface that hides the underlying complexity.\n",
        "\n",
        "\n",
        "\n",
        "*   **Analogy :**\n",
        "            Thing of a car's steering wheel. You only need to know to know how to turn it to control the car's direction . You dont need to understand the complex mechanics of how the steering wheel is connected to the wheels and the engine.\n",
        "\n",
        "\n",
        "              "
      ],
      "metadata": {
        "id": "4ZH-Hvn1JEMo"
      }
    },
    {
      "cell_type": "markdown",
      "source": [
        "5. What are dunder methods in Python ?\n",
        "Ans-- **Dunder Methods (Magic Methods**)\n",
        "\n",
        "In Python, dunder methods (also known as magic methods or special methods) are methods with double underscores (__) at the beginning and end of their names. They are predefined methods that provide special functionality to your classes. These methods allow you to customize how your objects behave and interact with other Python features.\n",
        "\n",
        "**Why They're Important**\n",
        "\n",
        "Dunder methods enable your objects to act in a way that's more consistent with built-in Python types (like numbers, lists, or strings). For instance, you can use dunder methods to define how your objects should be added, subtracted, compared, printed, or even converted into a string."
      ],
      "metadata": {
        "id": "QHrer3UVkZN9"
      }
    },
    {
      "cell_type": "code",
      "source": [
        "# Example\n",
        "class Example:\n",
        "    def __init__(self, value):\n",
        "        self.value = value\n",
        "\n",
        "    def __add__(self, other):\n",
        "        return Example(self.value + other.value)\n",
        "\n",
        "    def __str__(self):\n",
        "        return f\"Example object with value: {self.value}\"\n",
        "\n",
        "obj1 = Example(5)\n",
        "obj2 = Example(10)\n",
        "obj3 = obj1 + obj2\n",
        "print(obj3)  # Output: Example object with value: 15"
      ],
      "metadata": {
        "colab": {
          "base_uri": "https://localhost:8080/"
        },
        "id": "ceD5acYdldpP",
        "outputId": "5c518158-c88d-4486-e8ca-1822efe2f599"
      },
      "execution_count": null,
      "outputs": [
        {
          "output_type": "stream",
          "name": "stdout",
          "text": [
            "Example object with value: 15\n"
          ]
        }
      ]
    },
    {
      "cell_type": "markdown",
      "source": [
        "6.  Explain the concept of inheritance in OOP ?\n",
        "Ans--  **Inheritance**\n",
        "\n",
        "Inheritance is a fundamental principle in OOP that allows you to create new classes (called derived classes or subclasses) based on existing classes (called base classes or superclasses). The derived class inherits the attributes and methods of the base class, allowing you to reuse code and establish relationships between classes.\n",
        "\n",
        "**Key Benefits**\n",
        "\n",
        "\n",
        "\n",
        "*   **Code Reusability:** Inheritance promotes code reuse by allowing you to inherit existing functionality from a base class instead of rewriting it in the derived class.\n",
        "\n",
        "*   **Relationship Modeling:** It helps model real-world relationships between objects, where one object is a specialized type of another (e.g., a 'Car' is a type of 'Vehicle').\n",
        "\n",
        "*   **Extensibility:** Inheritance makes it easy to extend the functionality of existing classes without modifying their original code. You can add new features or modify existing ones in the derived class.\n",
        "\n",
        "\n",
        "*   **Maintainability:** By organizing code into a hierarchy of classes, inheritance improves code maintainability and reduces redundancy.\n",
        "\n"
      ],
      "metadata": {
        "id": "VJyD6xPdlWDv"
      }
    },
    {
      "cell_type": "code",
      "source": [
        "# Example,\n",
        "\n",
        "\n",
        "class Animal:  # Base class\n",
        "    def __init__(self, name):\n",
        "        self.name = name\n",
        "\n",
        "    def speak(self):\n",
        "        print(\"Basic animal sound\")\n",
        "\n",
        "class Dog(Animal):\n",
        "    def speak(self):\n",
        "        print(\"Woof!\")\n",
        "\n",
        "my_dog = Dog(\"Buddy\")\n",
        "my_dog.speak() #output - Woof !"
      ],
      "metadata": {
        "colab": {
          "base_uri": "https://localhost:8080/"
        },
        "id": "-DnaD-x4nLqB",
        "outputId": "e4630668-ae5d-4f42-80a2-2f9d70d41a76"
      },
      "execution_count": null,
      "outputs": [
        {
          "output_type": "stream",
          "name": "stdout",
          "text": [
            "Woof!\n"
          ]
        }
      ]
    },
    {
      "cell_type": "markdown",
      "source": [
        "7. What is polymorphism in OOP ?\n",
        "Ans-- **Polymorphism**\n",
        "\n",
        "Polymorphism, meaning \"many forms,\" is a fundamental concept in OOP that allows objects of different classes to be treated as objects of a common type. It enables you to write code that can work with objects of various classes without needing to know their specific types.\n",
        "\n",
        "**Key Benefits**\n",
        "\n",
        "\n",
        "\n",
        "*   **Flexibility:** Polymorphism allows you to write more flexible and reusable code. You can write code that operates on a generic object type and it will work with any object that conforms to that type.\n",
        "\n",
        "*   **Extensibility:** It makes it easy to add new types of objects without modifying existing code. As long as the new object type adheres to the common interface, the existing code will work seamlessly with it.\n",
        "\n",
        "\n",
        "*  ** Maintainability:** Polymorphism promotes code maintainability by reducing the need for complex conditional statements to handle different object types.\n",
        "\n",
        "\n",
        "\n"
      ],
      "metadata": {
        "id": "vf2tnZ7wnlkH"
      }
    },
    {
      "cell_type": "code",
      "source": [
        "class Animal:\n",
        "    def speak(self):\n",
        "        raise NotImplementedError(\"Subclasses must implement this method\")\n",
        "\n",
        "class Dog(Animal):\n",
        "    def speak(self):\n",
        "        print(\"Woof!\")\n",
        "\n",
        "class Cat(Animal):\n",
        "    def speak(self):\n",
        "        print(\"Meow!\")\n",
        "\n",
        "def animal_sound(animal):\n",
        "    animal.speak()\n",
        "\n",
        "dog = Dog()\n",
        "cat = Cat()\n",
        "\n",
        "animal_sound(dog)  # Output: Woof!\n",
        "animal_sound(cat)  # Output: Meow!"
      ],
      "metadata": {
        "colab": {
          "base_uri": "https://localhost:8080/"
        },
        "id": "gRKSkSIVoU1-",
        "outputId": "8e010937-7913-4155-9ec2-6843b7870e56"
      },
      "execution_count": null,
      "outputs": [
        {
          "output_type": "stream",
          "name": "stdout",
          "text": [
            "Woof!\n",
            "Meow!\n"
          ]
        }
      ]
    },
    {
      "cell_type": "markdown",
      "source": [
        "Q.8. How is encapsulation achieved in Python ?\n",
        "Ans-- Okay, let's discuss how encapsulation is achieved in Python:\n",
        "\n",
        "Encapsulation\n",
        "\n",
        "Encapsulation is one of the fundamental principles of object-oriented programming (OOP). It involves bundling data (attributes) and methods (functions) that operate on that data within a single unit, called a class. The goal of encapsulation is to:\n",
        "\n",
        "1. **Data Protection:** Restrict direct access to an object's internal data from outside the class. This helps prevent accidental or unauthorized modifications.\n",
        "\n",
        "2. **Code Organization:** Group releted data and method together, making the code more organize and easier to mantain.\n",
        "\n",
        "3. **Abstraction:** Hide implementation details from the user, allowing them to interact with the object through a well-defined interface.\n",
        "\n",
        "**Achieving Encapsulation in Python**\n",
        "\n",
        "Python achieves encapsulation through the following mechanisms:\n",
        "\n",
        "1. **Private Attributes:** By convention, attributes with names prefixed by a double underscore (__) are treated as private. They are not directly accessible from outside the class but can be accessed within the class itself.\n",
        "\n",
        "2. **Getter and Setter Methods:** To provide controlled access to private attributes, you can define getter and setter methods. Getters retrieve the value of an attribute, and setters modify its value. This allows you to enforce data validation and other logic before accessing or modifying the attribute.\n",
        "\n",
        "3. **Name Mangling:** Python performs name mangling to make private attributes less easily accessible. When you define an attribute with a double underscore prefix, Python internally renames it to `_ClassName__AttributeName.` This makes it more difficult to access the attribute directly from outside the class, but it's still possible if you know the mangled name."
      ],
      "metadata": {
        "id": "FrgOjeurxQrH"
      }
    },
    {
      "cell_type": "markdown",
      "source": [
        "9. What is a constructor in Python ?\n",
        "Ans-- A constructer is special method called __init__ that is automatically executed when a new object of a class is created . It is used to initialize the attrivutes if the object with default or user-defined values .\n",
        "\n",
        "**Purpose**\n",
        "\n",
        "The primary purpose of a constructor is to set up the initial state of an object. It allows you to:\n",
        "\n",
        "1. **Initialize Attributes:** Assign values to the object's attributes, giving it an initial state.\n",
        "\n",
        "2. **Perform Setup:** Execute any necessary setup or initialization tasks for the object.\n",
        "3. **Prepare the Object:** Get the object ready for use by setting its internal data and configurations."
      ],
      "metadata": {
        "id": "kwALcZq_zJLq"
      }
    },
    {
      "cell_type": "markdown",
      "source": [
        "Q.9.  What is a constructor in Python ?\n",
        "Ans -- In Python, a constructor is a special method called `__init__` that is automatically executed when a new object of a class is created. It is used to initialize the attributes of the object with default or user-defined values.\n",
        "\n",
        "Here's breakdown:\n",
        "\n",
        "**Purpose:** The primary pupose of a constructor is to set up the intitial state of an object . It allows you to:\n",
        "\n",
        "1. **Intialize Attributes:** Assign values to the object's attributes, giving it an initial state.\n",
        "\n",
        "2. **Perform Setup:** Execute any necessary setup or intialization tasks for the object.\n",
        "\n",
        "3. **Prepare the object:**Get the object ready for use by setting its internal data and configurations."
      ],
      "metadata": {
        "id": "Gj3DElRJV8Qb"
      }
    },
    {
      "cell_type": "code",
      "source": [
        "# Example Q -9\n",
        "\n",
        "class Dog:\n",
        "    def __init__(self, name, breed):\n",
        "        self.name = name\n",
        "        self.breed = breed\n",
        "\n",
        "my_dog = Dog(\"Buddy\", \"Labrador\")\n",
        "print(my_dog.name)  # Output: Buddy\n",
        "print(my_dog.breed)  # Output: Labrador\n"
      ],
      "metadata": {
        "colab": {
          "base_uri": "https://localhost:8080/"
        },
        "id": "rZVhUb6bXzrR",
        "outputId": "9caaf2c4-8050-405f-8fc1-63c884d3584b"
      },
      "execution_count": null,
      "outputs": [
        {
          "output_type": "stream",
          "name": "stdout",
          "text": [
            "Buddy\n",
            "Labrador\n"
          ]
        }
      ]
    },
    {
      "cell_type": "markdown",
      "source": [
        "Q. 10. What are class and static methods in Python ?\n",
        "Ans-- Both class methods and static methods are special types of methods that are associated with a class rather than an instance of the class. They offer different ways to interact with the class itself.\n",
        "\n",
        "Here's breakdown:\n",
        "\n",
        "**Class Methods:**\n",
        "\n",
        "\n",
        "\n",
        "*   **Purpose:** Class methods are bound to the class and can access or modify class-level state. They are often used for factory methods that create instances of the class or for operations that involve the class as a whole.\n",
        "\n",
        "*   **Definition:** Defined using the` @classmethod` decorator.\n",
        "\n",
        "*   **First Argument:** The first argument of a class method is typically named `cls`, representing the class itself.\n",
        "\n",
        "**Static Methods:**\n",
        "\n",
        "\n",
        "\n",
        "*   **Purpose:** Static methods are not bound to the class or an instance. They are essentially utility functions that are grouped within a class for logical organization. They don't have access to class-level or instance-level state.\n",
        "\n",
        "*   **Definition:** Defined using the @classmethod decorator.\n",
        "\n",
        "\n",
        "*   **First Argument:** Static methods don't have any implicit arguments like `self` or` cls`.\n",
        "\n",
        "\n",
        "\n",
        "\n",
        "\n",
        "\n",
        "\n",
        "\n"
      ],
      "metadata": {
        "id": "Asuv-5BYYDjg"
      }
    },
    {
      "cell_type": "markdown",
      "source": [
        "Q. 11. What is method overloading in Python ?\n",
        "Ans-- Method overloading is a concept where you define multiple methods in a class with the same name but with different parameters. This allows you to call the same method with different arguments, and the appropriate version of the method will be executed based on the number or types of arguments provided.\n",
        "\n",
        "However, Python doesn't support traditional method overloading like some other languages (e.g., Java, C++). In Python, if you define multiple methods with the same name, the last definition will override the previous ones. This means only\n",
        "the most recently defined method with that name will be considered.\n",
        "\n",
        "**How to Achieve Similar Behavior:**\n",
        "\n",
        "While Python doesn't have built-in-method overloading, you can achieve similar\n",
        "behavior using techniques like :\n",
        "\n",
        "1. **Default Arguments:** You can define methods with default arguments for some\n",
        " parameters. This way, if you call the method without providing those arguments, the default values will be used."
      ],
      "metadata": {
        "id": "Ce7M0PzPZwCg"
      }
    },
    {
      "cell_type": "code",
      "source": [
        "# Example Default Arguments\n",
        "\n",
        "class MyClass:\n",
        "       def my_method(self, a, b=0):\n",
        "           print(a + b)\n",
        "\n",
        "obj = MyClass()\n",
        "obj.my_method(5)  # Output: 5 (b defaults to 0)\n",
        "obj.my_method(5, 10)  # Output: 15"
      ],
      "metadata": {
        "colab": {
          "base_uri": "https://localhost:8080/"
        },
        "id": "EJMk-bVsbiGM",
        "outputId": "b9152f55-787f-43d1-9bde-f2d89ed5cb76"
      },
      "execution_count": null,
      "outputs": [
        {
          "output_type": "stream",
          "name": "stdout",
          "text": [
            "5\n",
            "15\n"
          ]
        }
      ]
    },
    {
      "cell_type": "markdown",
      "source": [
        "2. **Variable-Length Arguments:** Using `*args` and `**kwargs`, you can define methods that accept a variable number of positional or keyword arguments. This allows you to handle different argument combinations within a single method."
      ],
      "metadata": {
        "id": "UOjWnvcUb0t0"
      }
    },
    {
      "cell_type": "code",
      "source": [
        "# Example Variable-Length Arguments\n",
        "\n",
        "class MyClass:\n",
        "       def my_method(self, *args):\n",
        "           if len(args) == 1:\n",
        "               print(args[0])\n",
        "           elif len(args) == 2:\n",
        "               print(args[0] + args[1])\n",
        "\n",
        "obj = MyClass()\n",
        "obj.my_method(5)  # Output: 5\n",
        "obj.my_method(5, 10)  # Output: 15\n"
      ],
      "metadata": {
        "colab": {
          "base_uri": "https://localhost:8080/"
        },
        "id": "cv60WlaZb_w4",
        "outputId": "9b8e56a8-08f1-4633-8329-69403e7d35ea"
      },
      "execution_count": null,
      "outputs": [
        {
          "output_type": "stream",
          "name": "stdout",
          "text": [
            "5\n",
            "15\n"
          ]
        }
      ]
    },
    {
      "cell_type": "markdown",
      "source": [
        "3. Method Dispatching: You can use libraries like `multipledispatch` to explicitly define multiple methods with the same name but different parameter types. This allows you to have true method overloading based on parameter types."
      ],
      "metadata": {
        "id": "JfMP2mwdcQeh"
      }
    },
    {
      "cell_type": "code",
      "source": [
        "from multipledispatch import dispatch\n",
        "class MyClass:\n",
        " @dispatch(int, int)\n",
        "\n",
        " def my_method(self, a, b):\n",
        "   print(a + b)\n",
        "\n",
        " @dispatch(str, str)\n",
        " def my_method(self, a, b):\n",
        "   print(a + b)\n",
        "\n",
        "obj = MyClass()\n",
        "obj.my_method(5, 10)  # Output: 15\n",
        "obj.my_method(\"Hello\", \" World\")  # Output: Hello World"
      ],
      "metadata": {
        "colab": {
          "base_uri": "https://localhost:8080/"
        },
        "id": "rbbUbfR4cYGW",
        "outputId": "679cbf73-e1f9-4568-c3e3-a3776e0ad231"
      },
      "execution_count": null,
      "outputs": [
        {
          "output_type": "stream",
          "name": "stdout",
          "text": [
            "15\n",
            "Hello World\n"
          ]
        }
      ]
    },
    {
      "cell_type": "markdown",
      "source": [
        "Q.12  What is method overriding in OOP ?\n",
        "Ans-- **Method overriding** is a concept in OOP where a subclass provides a specific implementation for a method that is already defined in its superclass. The overridden method in the subclass has the same name, signature (parameters), and return type as the method in the superclass.\n",
        "\n",
        "**How it Works:**\n",
        "\n",
        "1. Inheritance: Method overriding is closely related to inheritance. A subclass inherits methods from its superclass.\n",
        "\n",
        "2. Redefinition: If the subclass needs to modify the behavior of an inherited method, it can override the method by providing its own implementation.\n",
        "\n",
        "3. Invocation: When the overridden method is called on an object of the subclass, the subclass's implementation is executed instead of the superclass's implementation.\n",
        "\n",
        "\n",
        "**Benefits of Method Overriding:**\n",
        "\n",
        "\n",
        "\n",
        "*   Polymorphism: Allows objects of different classes to respond differently to\n",
        "the same method call.\n",
        "\n",
        "*  **Customization:** Enables subclasses to tailor the behavior of inherited methods to their specific needs.\n",
        "\n",
        "*   **Customization:** Enables subclasses to tailor the behavior of inherited methods to their specific needs.\n",
        "\n",
        "\n",
        "*   **Flexibility:** Provides a way to extend and modify the functionality of existing classes without altering the original code.\n",
        "\n",
        "\n"
      ],
      "metadata": {
        "id": "IS85Np7mc0A8"
      }
    },
    {
      "cell_type": "markdown",
      "source": [
        "Q.13 What is a property decorator in Python ?\n",
        "Ans-- In Python, the property decorator is a built-in function that allows you to define properties for your classes. Properties provide a way to manage attributes with getter, setter, and deleter methods, while still accessing them like regular attributes.\n",
        "\n",
        "**Benefits of Using Properties:**\n",
        "\n",
        "1. **Encapsulation:** Properties help encapsulate attribute access, controlling how attributes are accessed and modified.\n",
        "2. **Date Validation :** You can use setter methods to validate values before assigning them to attributes, ensuring data integrity.\n",
        "3. **Computed Attributes:** Properties enable you to define attributes that are calculated on the fly based on other attributes.\n",
        "4. **Read-Only Attributes:** You can create read-only attributes by defining only a getter method\n"
      ],
      "metadata": {
        "id": "I5-0Rt89eMpA"
      }
    },
    {
      "cell_type": "markdown",
      "source": [
        "Q.14  Why is polymorphism important in OOP ?\n",
        "Ans-- Polymorphism, meaning \"many forms,\" is a fundamental concept in OOP that allows objects of different classes to be treated as objects of a common type. It enables you to write code that can work with objects of various classes without needing to know their specific types.\n",
        "\n",
        "Here's why polymorphism is important in OOP::\n",
        "\n",
        "1. **Flexibility and Reusability:**\n",
        "\n",
        "Polymorphism allows you to write more flexible and reusable code. You can write code that operates on a generic object type, and it will work with any object that conforms to that type. This eliminates the need to write separate code for each specific class.\n",
        "\n",
        "2. **Extensibility and Maintainability:**\n",
        "\n",
        "Polymorphism makes it easy to add new types of objects without modifying existing code. As long as the new object type adheres to the common interface, the existing code will work seamlessly with it. This enhances the extensibility and maintainability of your codebase.\n",
        "\n",
        "3. **Reduced Complexity:**\n",
        "\n",
        "Polymorphism promotes code maintainability by reducing the need for complex conditional statements to handle different object types. Instead of checking the type of an object and executing different code blocks, you can rely on polymorphism to call the appropriate method based on the object's actual type.\n",
        "\n",
        "4. **Real-World Modeling:**\n",
        "\n",
        "Polymorphism helps model real-world relationships between objects, where one object is a specialized type of another (e.g., a 'Car' is a type of 'Vehicle'). This allows you to create a hierarchy of classes and represent the relationships between them in a natural way.\n",
        "\n",
        "\n",
        "5. **Code Organization and Readability:**\n",
        "\n",
        "Polymorphism improves code organization and readability by providing a clear and consistent way to interact with objects of different types. It promotes a more modular and structured approach to programming.\n"
      ],
      "metadata": {
        "id": "Lvj4_F-ifEhH"
      }
    },
    {
      "cell_type": "markdown",
      "source": [
        "Q.15 What is an abstract class in Python ?\n",
        "Ans-- In Python, an abstract class is a class that cannot be instantiated on its own. It serves as a blueprint for other classes and defines a common interface for its subclasses. Abstract classes typically contain one or more abstract methods, which are declared but have no implementation. Subclasses of the abstract class are responsible for providing concrete implementations for these abstract methods.\n",
        "\n",
        "**Purpose of Abstract Classes:**\n",
        "\n",
        "1. **Enforce a Common Interface:** Abstract classes ensure that all subclasses have a consistent set of methods, promoting code consistency and maintainability.\n",
        "\n",
        "2. **Prevent Direct Instantiation:** By making a class abstract, you prevent it from being instantiated directly, as it may not have complete functionality.\n",
        "\n",
        "3.** Provide a Base for Subclasses:** Abstract classes act as a foundation for creating more specific subclasses, allowing for code reuse and specialization."
      ],
      "metadata": {
        "id": "Ovn8FlOGgPSe"
      }
    },
    {
      "cell_type": "markdown",
      "source": [
        "Q.16 H What are the advantages of OOP ?\n",
        "Ans-- Okay, let's discuss the advantages of Object-Oriented Programming (OOP).\n",
        "\n",
        "OOP is a programming paradigm that organizes code around objects, which are instances of classes. It offers several advantages over other programming approaches, such as procedural programming. Here are some key benefits of using OOP:\n",
        "\n",
        "1. **Modularity and Reusability:**\n",
        "OOP promotes modularity by encapsulating data and methods within objects. This allows you to break down complex systems into smaller, more manageable units. Objects can be reused in different parts of the program or even in other projects, reducing code duplication and improving efficiency.\n",
        "\n",
        "2. **Data Encapsulation and Security:**\n",
        "OOP provides mechanisms for data encapsulation, which means that data is hidden within objects and can only be accessed through well-defined interfaces (methods). This protects data from accidental or unauthorized modifications, improving code security and maintainability.\n",
        "\n",
        "3. **Abstraction and Simplicity:**\n",
        "OOP allows you to create abstractions by hiding complex implementation details behind simple interfaces. This simplifies the understanding and use of objects, as users only need to know how to interact with them through their methods, without worrying about the internal workings.\n",
        "\n",
        "4. **Flexibility and Extensibility:**\n",
        "OOP facilitates flexibility and extensibility by allowing you to easily modify or extend existing code without affecting other parts of the system. You can add new classes or modify existing ones without breaking the overall functionality, making it easier to adapt to changing requirements.\n",
        "\n",
        "5. **Polymorphism and Code Reusability:**\n",
        "OOP supports polymorphism, which allows objects of different classes to be treated as objects of a common type. This enables you to write code that can work with objects of various classes without needing to know their specific types, promoting code reusability and reducing complexity.\n",
        "\n",
        "6. **Real-World Modeling:**\n",
        "OOP allows you to model real-world entities and their relationships in a natural and intuitive way. Objects can represent real-world objects, and classes can represent categories or types of objects. This makes it easier to design and understand complex systems.\n",
        "\n",
        "7. **Improved Collaboration and Maintainability:**\n",
        "OOP promotes collaboration by allowing developers to work on different parts of a system independently. Objects and classes can be developed and tested separately, making it easier to integrate them later. OOP also improves code maintainability by providing a clear structure and organization, making it easier to understand, debug, and modify code over time."
      ],
      "metadata": {
        "id": "EH3Vf3EDgweQ"
      }
    },
    {
      "cell_type": "markdown",
      "source": [
        "Q.17  What is the difference between a class variable and an instance variable ?\n",
        "Ans-- **Class Variables:**\n",
        "\n",
        "1. **Definition: **Class variables are declared within the class but outside of any methods. They are shared by all instances (objects) of the class.\n",
        "\n",
        "2. **Scope:** Class variables have class-level scope, meaning they are accessible to all instances of the class as well as the class itself.\n",
        "Declaration: Typically declared directly within the class definition.\n",
        "\n",
        "3. **Access:** Can be accessed using the class name or any instance of the class.\n",
        "\n",
        "4. **Modification:** Modifying a class variable using the class name affects all instances of the class. Modifying it using an instance only affects that specific instance.\n",
        "\n",
        "\n",
        "**Instance Variables:**\n",
        "\n",
        "1. **Definition:** Instance variables are declared inside the constructor `(__init__ method)` of a class. They are specific to each instance (object) of the class.\n",
        "\n",
        "2. **Scope:** Instance variables have instance-level scope, meaning they are only accessible within the instance they belong to.\n",
        "\n",
        "3. **Declaration:** Declared inside the `__init__` method, typically using the `self` keyword.\n",
        "\n",
        "4. **Access:** Can only be accessed using the instance of the class.\n",
        "Modification: Modifying an instance variable only affects that specific instance. It doesn't impact other instances or the class itself."
      ],
      "metadata": {
        "id": "Uuaka6PFhZGc"
      }
    },
    {
      "cell_type": "markdown",
      "source": [
        "Q.18 What is multiple inheritance in Python ?\n",
        "Ans-- Multiple inheritance is a feature in object-oriented programming where a class can inherit from multiple parent classes. This means that the child class inherits attributes and methods from all of its parent classes.\n",
        "\n",
        "**Method Resolution Order (MRO):**\n",
        "\n",
        "When a method is called on an object of a class with multiple inheritance, Python uses the Method Resolution Order (MRO) to determine which method to execute. The MRO is a set of rules that define the order in which parent classes are searched for the method.\n",
        "\n",
        "Python uses the C3 linearization algorithm to determine the MRO. This algorithm ensures that the MRO is consistent and predictable, even in complex inheritance hierarchies.\n",
        "\n",
        "You can view the MRO of a class using the `__mro__` attribute or the `mro() `method. For example:\n",
        "\n",
        "\n",
        "**Advantages of Multiple Inheritance:**\n",
        "\n",
        "Code Reusability: Multiple inheritance allows you to reuse code from multiple parent classes, reducing code duplication.\n",
        "\n",
        "Flexibility: It provides flexibility in designing class hierarchies and relationships.\n",
        "\n",
        "Modeling Complex Relationships: Multiple inheritance can be used to model complex real-world relationships between objects.\n",
        "\n",
        "**Disadvantages of Multiple Inheritance:**\n",
        "\n",
        "**Complexity:** Multiple inheritance can make code more complex and difficult to understand, especially with complex inheritance hierarchies.\n",
        "\n",
        "**Diamond Problem:** The \"diamond problem\" can occur when two parent classes inherit from a common grandparent class and both override the same method. This can lead to ambiguity in which method should be executed. Python's MRO helps resolve this problem, but it's still something to be aware of."
      ],
      "metadata": {
        "id": "Hl3hxhOAnA_x"
      }
    },
    {
      "cell_type": "markdown",
      "source": [
        "Q.19 Explain the purpose of ‘’__str__’ and ‘__repr__’ ‘ methods in Python ?\n",
        "Ans-- Both `__str__ `and `__repr__ `are special methods (also known as \"dunder\" methods) in Python classes that are used to represent objects as strings. They serve different purposes and are intended for different audiences.\n",
        "\n",
        "**`__str__` Method:**\n",
        "\n",
        "**Purpose:** The `__str__` method is designed for creating a user-friendly, informal string representation of an object. It should be easily readable and understandable by end-users.\n",
        "\n",
        "**Usage:** It is called when you use the `str()` function on an object or when you print an object using the print() function.\n",
        "\n",
        "**Return Value:** It should return a string that represents the object in a human-readable format.\n",
        "\n",
        "**`__repr__` Method:**\n",
        "\n",
        "** Purpose:** The` __repr__ `method is designed for creating a more formal, detailed, and unambiguous string representation of an object. It's primarily used for debugging and development purposes.\n",
        "\n",
        "**Usage:** It is called when you use the `repr()` function on an object or when you evaluate an object in an interactive Python shell without calling print().\n",
        "\n",
        "**Return Value:** It should return a string that, ideally, could be used to recreate the object using `eval().`\n"
      ],
      "metadata": {
        "id": "Bk2WBItmoa_f"
      }
    },
    {
      "cell_type": "markdown",
      "source": [
        "Q.20 What is the significance of the ‘super()’ function in Python ?\n",
        "Ans-- The `super()` function in Python is used to access and call methods of a parent class from within a subclass. It's a key element for achieving inheritance and code reuse in object-oriented programming.\n",
        "\n",
        "**Purpose and Significance:**\n",
        "\n",
        "1. **Accessing Parent Class Methods:** `super()` allows you to call methods that are defined in the parent class, even if those methods have been overridden in the subclass. This is particularly useful when you want to extend the functionality of a parent class method in the subclass while still utilizing the original implementation.\n",
        "\n",
        "2. **Avoiding Explicit Class Names:** By using `super()`, you don't need to explicitly mention the parent class name when calling its methods. This makes your code more maintainable and less prone to errors if the parent class name changes in the future.\n",
        "\n",
        "3. **Method Resolution Order (MRO):** `super()` works in conjunction with Python's method resolution order (MRO) to ensure that methods are called in the correct order within a complex inheritance hierarchy. This prevents unexpected behavior and ensures that the intended method is executed.\n"
      ],
      "metadata": {
        "id": "wa9c9E8YpjrI"
      }
    },
    {
      "cell_type": "markdown",
      "source": [
        "Q.21  What is the significance of the `__del__` method in Python ?\n",
        "Ans-- In Python, the `__del__` method is a special method (also known as a \"destructor\") that is called when an object is about to be destroyed or garbage collected. It is used to perform cleanup actions, such as releasing resources held by the object or closing connections.\n",
        "\n",
        "**Purpose and Significance:**\n",
        "\n",
        "1. **Resource Management:** The primary purpose of the `__del__` method is to manage resources that are acquired by an object during its lifetime. This ensures that resources like file handles, network connections, or database connections are properly released when the object is no longer needed.\n",
        "\n",
        "2. Cleanup Actions: You can use the `__del__` method to perform any necessary cleanup tasks before an object is destroyed. This can include closing files, releasing locks, or deleting temporary files.\n",
        "\n",
        "3. `Object Finalization:` The `__del__` method provides a way to perform finalization actions on an object before it is removed from memory. This can be useful for logging, debugging, or notifying other components about the object's destruction."
      ],
      "metadata": {
        "id": "0KRCGxNBqIzU"
      }
    },
    {
      "cell_type": "markdown",
      "source": [
        "Q.22 What is the difference between @staticmethod and @classmethod in Python ?\n",
        "Ans-- Both `@staticmethod` and `@classmethod` are decorators used to define methods that are bound to a class rather than an instance of the class. However, they differ in how they interact with the class and their intended use cases.\n",
        "\n",
        "**`@staticmethod`**\n",
        "\n",
        "* **Porpose:** Static methods are essentially utility functions that are grouped within a class for logical organization. They don't have access to class-level or instance-level state.\n",
        "\n",
        "* **Binding:** Static methods are not bound to the class or an instance.\n",
        "\n",
        "* `Arguments:` Static methods don't have any implicit arguments like `self` (for instance methods) or `cls` (for class methods).\n",
        "\n",
        "* **Use Cases:**\n",
        "  * Utility functions that perform operations related to the class but don't require access to class or instance data.\n",
        "  * Grouping logically related functions within a class for better organization.\n",
        "\n",
        "\n",
        "`**@classmethod**`\n",
        "  \n",
        "  * **Purpose:** Class methods are bound to the class and can access or modify class-level state.\n",
        "\n",
        "  * **Binding:** Class methods are bound to the class.\n",
        "  * **Arguments:** Class methods take the class itself `(cls)` as the first implicit argument.\n",
        "\n",
        "* **Use Cases:**\n",
        "\n",
        "  * Factory methods that create instances of the class.\n",
        "  * Operations that involve the class as a whole, such as modifying class-level attributes.\n",
        "\n",
        "\n"
      ],
      "metadata": {
        "id": "Sbzj5Pvwq_MM"
      }
    },
    {
      "cell_type": "markdown",
      "source": [
        "Q.23  How does polymorphism work in Python with inheritance ?\n",
        "Ans-- Polymorphism, meaning \"many forms,\" is a fundamental concept in object-oriented programming that allows objects of different classes to be treated as objects of a common type. In Python, polymorphism is achieved through inheritance and duck typing.\n",
        "\n",
        "**Inheritance and Polymorphism**\n",
        "\n",
        "Inheritance plays a crucial role in polymorphism by enabling subclasses to inherit methods from their parent classes and potentially override them with their own specific implementations. This allows objects of different subclasses to respond differently to the same method call, exhibiting polymorphic behavior.\n",
        "\n",
        "**Duck Typing and Polymorphism**\n",
        "\n",
        "Duck typing is another aspect of polymorphism in Python. It focuses on the idea that if an object \"walks like a duck and quacks like a duck,\" then it can be treated as a duck, regardless of its actual type. In other words, if an object has the required methods and attributes, it can be used in a polymorphic context, even if it doesn't explicitly inherit from a specific class.\n"
      ],
      "metadata": {
        "id": "T22QTLvAt1Pr"
      }
    },
    {
      "cell_type": "markdown",
      "source": [
        "Q.24 What is method chaining in Python OOP ?\n",
        "Ans-- Method chaining is a technique in object-oriented programming where you call multiple methods on an object in a single line of code. This is achieved by having each method return the object itself `(self)` so that the next method can be called directly on the returned object.\n",
        "\n",
        "**Benefits of Method Chaining:**\n",
        "\n",
        "* **Improved Readability:** Method chaining can make code more concise and easier to read by eliminating the need for temporary variables to store intermediate results.\n",
        "* **Fluent Interface:** It creates a more fluent and expressive way of interacting with objects, allowing you to chain methods together in a natural way.\n",
        "* **Reduced Code Duplication:** Method chaining can help reduce code duplication by allowing you to reuse methods in different contexts."
      ],
      "metadata": {
        "id": "GYGHr0nauUWJ"
      }
    },
    {
      "cell_type": "markdown",
      "source": [
        "Q.25  What is the purpose of the __call__ method in Python ?\n",
        "Ans--\n",
        "In Python, the` __call__` method is a special method that allows you to make an object callable like a function. When you define a `__call__` method within a class, you can then use instances of that class as if they were functions, invoking them using parentheses.\n",
        "\n",
        "**Purpose and Significance:**\n",
        "\n",
        "1. **Callable Objects:** The primary purpose of the __call__ method is to enable objects to behave like functions. This allows you to treat objects as if they were functions and call them directly.\n",
        "\n",
        "2. **Function-Like Behavior:** By defining a __call__ method, you can give your objects function-like behavior, allowing them to perform actions or computations when called.\n",
        "\n",
        "3. **Stateful Functions:** Callable objects can maintain state, unlike regular functions. This means they can remember and utilize data between calls.\n",
        "\n",
        "**Benefits of Using `__call__`**\n",
        "\n",
        "* **Encapsulation:** Encapsulates functionality within an object, improving code organization.\n",
        "* **State Management:** Allows objects to maintain state between calls, providing flexibility.\n",
        "* `Function-Like Interface:` Makes objects callable like functions, offering a convenient way to execute their logic."
      ],
      "metadata": {
        "id": "vThaylQwuwt4"
      }
    },
    {
      "cell_type": "markdown",
      "source": [
        "# **PRACTICE QUESTION**"
      ],
      "metadata": {
        "id": "zkQyZdSovwRs"
      }
    },
    {
      "cell_type": "code",
      "source": [
        "#Q. 1 Create a parent class Animal with a method speak() that prints a generic message. Create a child class Dogthat overrides the speak() method to print \"Bark!\".\n",
        "\n",
        "class Animal:\n",
        "    def speak(self):\n",
        "        print(\"Genric animal sound.\")\n",
        "\n",
        "class Dog(Animal):\n",
        "    def speak(self):\n",
        "        print(\"The dog barks.\")\n",
        "\n",
        "animal = Animal()\n",
        "animal.speak()  # Output: The animal makes a sound.\n",
        "\n",
        "dog = Dog()  # Genric animal sound.\n",
        "dog.speak()  # Output: The dog barks.\n"
      ],
      "metadata": {
        "colab": {
          "base_uri": "https://localhost:8080/"
        },
        "id": "oXk2h7Jpv37F",
        "outputId": "de03d402-4f90-4eda-a205-d3654261eccd"
      },
      "execution_count": null,
      "outputs": [
        {
          "output_type": "stream",
          "name": "stdout",
          "text": [
            "Genric animal sound.\n",
            "The dog barks.\n"
          ]
        }
      ]
    },
    {
      "cell_type": "code",
      "source": [
        "# Q. 2.  Write a program to create an abstract class Shape with a method area(). Derive classes Circle and Rectangle from it and implement the area() method in both.\n",
        "from abc import ABC, abstractmethod\n",
        "import math\n",
        "\n",
        "class Shape(ABC):  # Abstract class\n",
        "    @abstractmethod\n",
        "    def area(self):\n",
        "        pass\n",
        "\n",
        "class Circle(Shape):\n",
        "    def __init__(self, radius):\n",
        "        self.radius = radius\n",
        "\n",
        "    def area(self):\n",
        "        return math.pi * self.radius**2\n",
        "\n",
        "class Rectangle(Shape):\n",
        "    def __init__(self, length, width):\n",
        "        self.length = length\n",
        "        self.width = width\n",
        "\n",
        "    def area(self):\n",
        "        return self.length * self.width\n",
        "\n",
        "# Create instances of the classes\n",
        "circle = Circle(5)\n",
        "rectangle = Rectangle(4, 6)\n",
        "\n",
        "# Calculate and print the areas\n",
        "print(\"Area of circle:\", circle.area())\n",
        "print(\"Area of rectangle:\", rectangle.area())\n",
        "\n"
      ],
      "metadata": {
        "colab": {
          "base_uri": "https://localhost:8080/"
        },
        "id": "qhG44VgCNYYn",
        "outputId": "f4a9cb8f-eda5-4ce5-c3d1-0adae1ecd302"
      },
      "execution_count": 1,
      "outputs": [
        {
          "output_type": "stream",
          "name": "stdout",
          "text": [
            "Area of circle: 78.53981633974483\n",
            "Area of rectangle: 24\n"
          ]
        }
      ]
    },
    {
      "cell_type": "code",
      "source": [
        "# Q.3 Implement a multi-level inheritance scenario where a class Vehicle has an attribute type. Derive a class Car and further derive a class ElectricCar that adds a battery attribute.\n",
        "\n",
        "class Vehicle:\n",
        "    def __init__(self, type):\n",
        "        self.type = type\n",
        "\n",
        "class Car(Vehicle):\n",
        "    def __init__(self, type, model):\n",
        "        super().__init__(type)\n",
        "        self.model = model\n",
        "\n",
        "class ElectricCar(Car):\n",
        "    def __init__(self, type, model, battery):\n",
        "        super().__init__(type, model)\n",
        "        self.battery = battery\n",
        "\n",
        "vehicle = Vehicle(\"Generic Vehicle\")\n",
        "car = Car(\"Sedan\", \"Toyota Camry\")\n",
        "electric_car = ElectricCar(\"Electric\", \"Tesla Model S\", \"Lithium-ion\")\n",
        "\n",
        "\n",
        "print(vehicle.type)  # Output: Generic Vehicle\n",
        "print(car.type, car.model)  # Output: Sedan Toyota Camry\n",
        "print(electric_car.type, electric_car.model, electric_car.battery)  # Output: Electric Tesla Model S Lithium-ion"
      ],
      "metadata": {
        "colab": {
          "base_uri": "https://localhost:8080/"
        },
        "id": "qPS-Hl9wN9CD",
        "outputId": "5f12a4b0-0dc1-42f2-b017-3066cc8020f8"
      },
      "execution_count": 2,
      "outputs": [
        {
          "output_type": "stream",
          "name": "stdout",
          "text": [
            "Generic Vehicle\n",
            "Sedan Toyota Camry\n",
            "Electric Tesla Model S Lithium-ion\n"
          ]
        }
      ]
    },
    {
      "cell_type": "code",
      "source": [
        "# Q.4  Demonstrate polymorphism by creating a base class Bird with a method fly(). Create two derived classes Sparrow and Penguin that override the fly() method.\n",
        "\n",
        "class Bird:\n",
        "    def fly(self):\n",
        "        print(\"Bird is flying\")\n",
        "\n",
        "class Sparrow(Bird):\n",
        "    def fly(self):\n",
        "        print(\"Sparrow is flying\")\n",
        "\n",
        "class Penguin(Bird):\n",
        "    def fly(self):\n",
        "        print(\"Penguins can't fly, they waddle\")\n",
        "\n",
        "bird = Bird()\n",
        "sparrow = Sparrow()\n",
        "penguin = Penguin()\n",
        "\n",
        "\n",
        "bird.fly()  # Output: Bird is flying\n",
        "sparrow.fly()  # Output: Sparrow is flying\n",
        "penguin.fly()  # Output: Penguins can't fly, they waddle\n",
        "\n"
      ],
      "metadata": {
        "colab": {
          "base_uri": "https://localhost:8080/"
        },
        "id": "1gYpVZTTOZK9",
        "outputId": "49f1b218-75c4-4704-fae3-0b08474f251c"
      },
      "execution_count": 3,
      "outputs": [
        {
          "output_type": "stream",
          "name": "stdout",
          "text": [
            "Bird is flying\n",
            "Sparrow is flying\n",
            "Penguins can't fly, they waddle\n"
          ]
        }
      ]
    },
    {
      "cell_type": "code",
      "source": [
        "# Q.5  Write a program to demonstrate encapsulation by creating a class BankAccount with private attributes balance and methods to deposit, withdraw, and check balance.\n",
        "\n",
        "class BankAccount:\n",
        "    def __init__(self, initial_balance=0):\n",
        "        self.__balance = initial_balance  # Private attribute\n",
        "\n",
        "    def deposit(self, amount):\n",
        "        if amount > 0:\n",
        "            self.__balance += amount\n",
        "            print(f\"Deposited ${amount}. New balance: ${self.__balance}\")\n",
        "        else:\n",
        "            print(\"Invalid deposit amount.\")\n",
        "\n",
        "    def withdraw(self, amount):\n",
        "        if 0 < amount <= self.__balance:\n",
        "            self.__balance -= amount\n",
        "            print(f\"Withdrew ${amount}. New balance: ${self.__balance}\")\n",
        "        else:\n",
        "            print(\"Insufficient funds or invalid withdrawal amount.\")\n",
        "\n",
        "    def check_balance(self):\n",
        "        print(f\"Current balance: ${self.__balance}\")\n",
        "\n",
        "# Create an account\n",
        "account = BankAccount(100)\n",
        "\n",
        "# Perform operations\n",
        "account.deposit(100)\n",
        "account.withdraw(30)\n",
        "account.check_balance() # Output : Current balance $170\n",
        "\n"
      ],
      "metadata": {
        "colab": {
          "base_uri": "https://localhost:8080/"
        },
        "id": "mk8rwmnjOwzo",
        "outputId": "3abe1d9e-7757-4734-f604-159aeec51b33"
      },
      "execution_count": 6,
      "outputs": [
        {
          "output_type": "stream",
          "name": "stdout",
          "text": [
            "Deposited $100. New balance: $200\n",
            "Withdrew $30. New balance: $170\n",
            "Current balance: $170\n"
          ]
        }
      ]
    },
    {
      "cell_type": "code",
      "source": [
        "# Q.6 Demonstrate runtime polymorphism using a method play() in a base class Instrument. Derive classes Guitar and Piano that implement their own version of play().\n",
        "\n",
        "class Instrument:\n",
        "    def play(self):\n",
        "        print(\"Playing a generic instrument sound\")\n",
        "\n",
        "class Guitar(Instrument):\n",
        "    def play(self):\n",
        "        print(\"Strumming the guitar strings\")\n",
        "\n",
        "class Piano(Instrument):\n",
        "    def play(self):\n",
        "        print(\"Playing the piano keys\")\n",
        "\n",
        "# Create instances of the classes\n",
        "instrument = Instrument()\n",
        "guitar = Guitar()\n",
        "piano = Piano()\n",
        "\n",
        "# Call the play() method on each instance\n",
        "instrument.play()  # Output: Playing a generic instrument sound\n",
        "guitar.play()  # Output: Strumming the guitar strings\n",
        "piano.play()  # Output: Playing the piano keys\n",
        "\n"
      ],
      "metadata": {
        "colab": {
          "base_uri": "https://localhost:8080/"
        },
        "id": "llh1wUrQPYi_",
        "outputId": "88de32b9-d21e-4960-c528-d0ce3d057159"
      },
      "execution_count": 7,
      "outputs": [
        {
          "output_type": "stream",
          "name": "stdout",
          "text": [
            "Playing a generic instrument sound\n",
            "Strumming the guitar strings\n",
            "Playing the piano keys\n"
          ]
        }
      ]
    },
    {
      "cell_type": "code",
      "source": [
        "# Q. 7 Create a class MathOperations with a class method add_numbers() to add two numbers and a static method subtract_numbers() to subtract two numbers.\n",
        "\n",
        "class MathOperations:\n",
        "    @classmethod\n",
        "    def add_numbers(cls, num1, num2):\n",
        "        return num1 + num2\n",
        "\n",
        "    @staticmethod\n",
        "    def subtract_numbers(num1, num2):\n",
        "        return num1 - num2\n",
        "\n",
        "\n",
        "result1 = MathOperations.add_numbers(5, 3)\n",
        "result2 = MathOperations.subtract_numbers(10, 4)\n",
        "\n",
        "print(result1)  # Output: 8\n",
        "print(result2)  # Output: 6\n",
        "\n"
      ],
      "metadata": {
        "colab": {
          "base_uri": "https://localhost:8080/"
        },
        "id": "NiwrHbrDQBMF",
        "outputId": "4ce734ba-0681-49be-f61b-83ebd8475edc"
      },
      "execution_count": 8,
      "outputs": [
        {
          "output_type": "stream",
          "name": "stdout",
          "text": [
            "8\n",
            "6\n"
          ]
        }
      ]
    },
    {
      "cell_type": "code",
      "source": [
        "# Q.8  Implement a class Person with a class method to count the total number of persons created.\n",
        "class Person:\n",
        "    count = 0\n",
        "\n",
        "    def __init__(self, name):\n",
        "        self.name = name\n",
        "        Person.count += 1\n",
        "\n",
        "    @classmethod\n",
        "    def get_total_persons(cls):\n",
        "        return cls.count\n",
        "\n",
        "person1 = Person(\"Alice\")\n",
        "person2 = Person(\"Bob\")\n",
        "person3 = Person(\"Charlie\")\n",
        "\n",
        "total_persons = Person.get_total_persons()\n",
        "\n",
        "print(f\"Total number of persons created: {total_persons}\")  # Output: Total number of persons created: 3\n",
        "\n"
      ],
      "metadata": {
        "colab": {
          "base_uri": "https://localhost:8080/"
        },
        "id": "1jC5q3f-Qdpk",
        "outputId": "ee8c3ded-3f47-4826-bacf-531839862f7e"
      },
      "execution_count": 9,
      "outputs": [
        {
          "output_type": "stream",
          "name": "stdout",
          "text": [
            "Total number of persons created: 3\n"
          ]
        }
      ]
    },
    {
      "cell_type": "code",
      "source": [
        "# Q.9  Write a class Fraction with attributes numerator and denominator. Override the str method to display the fraction as \"numerator/denominator\"\n",
        "\n",
        "class Fraction:\n",
        "    def __init__(self, numerator, denominator):\n",
        "        self.numerator = numerator\n",
        "        self.denominator = denominator\n",
        "\n",
        "    def __str__(self):\n",
        "        return f\"{self.numerator}/{self.denominator}\"\n",
        "\n",
        "\n",
        "fraction = Fraction(3, 4)\n",
        "print(fraction)  # Output: 3/4\n",
        "\n",
        "\n"
      ],
      "metadata": {
        "colab": {
          "base_uri": "https://localhost:8080/"
        },
        "id": "3kJVUSZLQ2_y",
        "outputId": "59fe148e-6cf0-400d-a000-9f6cde863a22"
      },
      "execution_count": 10,
      "outputs": [
        {
          "output_type": "stream",
          "name": "stdout",
          "text": [
            "3/4\n"
          ]
        }
      ]
    },
    {
      "cell_type": "code",
      "source": [
        "# Q.10  Demonstrate operator overloading by creating a class Vector and overriding the add method to add two vectors.\n",
        "\n",
        "class Vector:\n",
        "    def __init__(self, x, y):\n",
        "        self.x = x\n",
        "        self.y = y\n",
        "\n",
        "    def __add__(self, other):\n",
        "        return Vector(self.x + other.x, self.y + other.y)\n",
        "\n",
        "    def __str__(self):\n",
        "        return f\"({self.x}, {self.y})\"\n",
        "\n",
        "v1 = Vector(2, 3)\n",
        "v2 = Vector(4, 5)\n",
        "v3 = v1 + v2\n",
        "\n",
        "print(v3)  # Output: (6, 8)\n",
        "\n",
        "\n"
      ],
      "metadata": {
        "colab": {
          "base_uri": "https://localhost:8080/"
        },
        "id": "T8aiemZqRHUJ",
        "outputId": "014f5c20-cc8b-44dc-a44b-7f3943ada194"
      },
      "execution_count": 12,
      "outputs": [
        {
          "output_type": "stream",
          "name": "stdout",
          "text": [
            "(6, 8)\n"
          ]
        }
      ]
    },
    {
      "cell_type": "code",
      "source": [
        "# Q.11 Create a class Person with attributes name and age. Add a method greet() that prints \"Hello, my name is {name} and I am {age} years old.\"\n",
        "\n",
        "class Person:\n",
        "    def __init__(self, name, age):\n",
        "        self.name = name\n",
        "        self.age = age\n",
        "\n",
        "    def greet(self):\n",
        "        print(f\"Hello, my name is {self.name} and I am {self.age} years old.\")\n",
        "\n",
        "person = Person(\"Arjun\", 22)\n",
        "person.greet()  # Output: Hello, my name is Arjun and I am 22 years old.\n",
        "\n"
      ],
      "metadata": {
        "colab": {
          "base_uri": "https://localhost:8080/"
        },
        "id": "aMZGwxaKRbSu",
        "outputId": "cc5cd81a-66ca-4d65-f901-b7a05a9c593d"
      },
      "execution_count": 17,
      "outputs": [
        {
          "output_type": "stream",
          "name": "stdout",
          "text": [
            "Hello, my name is Arjun and I am 22 years old.\n"
          ]
        }
      ]
    },
    {
      "cell_type": "code",
      "source": [
        "# Q.12  Implement a class Student with attributes name and grades. Create a method average_grade() to compute the average of the grades.\n",
        "\n",
        "class Student:\n",
        "    def __init__(self, name, grades):\n",
        "        self.name = name\n",
        "        self.grades = grades\n",
        "\n",
        "    def average_grade(self):\n",
        "        if not self.grades:  # Check if grades list is empty\n",
        "            return 0  # Return 0 if no grades\n",
        "        else:\n",
        "            return sum(self.grades) / len(self.grades)\n",
        "\n",
        "student = Student(\"Arjun\", [72, 89, 45, 76, 81])\n",
        "average = student.average_grade()\n",
        "print(f\"{student.name}'s average grade: {average}\")  # Output: Arjun's average grade: 72.6\n",
        "\n",
        "\n",
        "\n"
      ],
      "metadata": {
        "colab": {
          "base_uri": "https://localhost:8080/"
        },
        "id": "dmWRDfZ7SZTy",
        "outputId": "0cb1af39-ebb0-473f-ce4f-9aa5e7691e54"
      },
      "execution_count": 18,
      "outputs": [
        {
          "output_type": "stream",
          "name": "stdout",
          "text": [
            "Arjun's average grade: 72.6\n"
          ]
        }
      ]
    },
    {
      "cell_type": "code",
      "source": [
        "# Q.13 Create a class Rectangle with methods set_dimensions() to set the dimensions and area() to calculate the area.\n",
        "\n",
        "class Rectangle:\n",
        "    def __init__(self, length=0, width=0):  # Initialize with default values\n",
        "        self.length = length\n",
        "        self.width = width\n",
        "\n",
        "    def set_dimensions(self, length, width):\n",
        "        self.length = length\n",
        "        self.width = width\n",
        "\n",
        "    def area(self):\n",
        "        return self.length * self.width\n",
        "\n",
        "\n",
        "rectangle = Rectangle()\n",
        "rectangle.set_dimensions(5, 4)\n",
        "area = rectangle.area()\n",
        "print(f\"Area of the rectangle: {area}\")  # Output: Area of the rectangle: 20\n",
        "\n"
      ],
      "metadata": {
        "colab": {
          "base_uri": "https://localhost:8080/"
        },
        "id": "3UQNAHBBSy2_",
        "outputId": "ad0f3710-df70-410f-9a0d-21b18a02b89f"
      },
      "execution_count": 20,
      "outputs": [
        {
          "output_type": "stream",
          "name": "stdout",
          "text": [
            "Area of the rectangle: 20\n"
          ]
        }
      ]
    },
    {
      "cell_type": "code",
      "source": [
        "# Q.14 Create a class Employee with a method calculate_salary() that computes the salary based on hours worked and hourly rate. Create a derived class Manager that adds a bonus to the salary.\n",
        "\n",
        "class Employee:\n",
        "    def __init__(self, name, hours_worked, hourly_rate):\n",
        "        self.name = name\n",
        "        self.hours_worked = hours_worked\n",
        "        self.hourly_rate = hourly_rate\n",
        "\n",
        "    def calculate_salary(self):\n",
        "        return self.hours_worked * self.hourly_rate\n",
        "\n",
        "class Manager(Employee):\n",
        "    def __init__(self, name, hours_worked, hourly_rate, bonus):\n",
        "        super().__init__(name, hours_worked, hourly_rate)\n",
        "        self.bonus = bonus\n",
        "\n",
        "    def calculate_salary(self):\n",
        "        base_salary = super().calculate_salary()\n",
        "        return base_salary + self.bonus\n",
        "\n",
        "\n",
        "employee = Employee(\"Arjun\", 30, 7)\n",
        "manager = Manager(\"Harry\", 45, 20, 100)\n",
        "\n",
        "print(f\"{employee.name}'s salary: ${employee.calculate_salary()}\")  # Output: Arjun's salary: $210\n",
        "print(f\"{manager.name}'s salary: ${manager.calculate_salary()}\")  # Output: Harry's salary: $1000\n",
        "\n",
        "\n"
      ],
      "metadata": {
        "colab": {
          "base_uri": "https://localhost:8080/"
        },
        "id": "mKqxIFwiTFjT",
        "outputId": "2459e06a-732b-4f0e-e362-46c0b3c71ea0"
      },
      "execution_count": 21,
      "outputs": [
        {
          "output_type": "stream",
          "name": "stdout",
          "text": [
            "Arjun's salary: $210\n",
            "Harry's salary: $1000\n"
          ]
        }
      ]
    },
    {
      "cell_type": "code",
      "source": [
        "# Q.15  Create a class Product with attributes name, price, and quantity. Implement a method total_price() that calculates the total price of the product.\n",
        "\n",
        "class Product:\n",
        "    def __init__(self, name, price, quantity):\n",
        "        self.name = name\n",
        "        self.price = price\n",
        "        self.quantity = quantity\n",
        "\n",
        "    def total_price(self):\n",
        "        return self.price * self.quantity\n",
        "\n",
        "# Example usage\n",
        "product = Product(\"Cleanser facewash\", 700, 4)\n",
        "total = product.total_price()\n",
        "print(f\"Total price of {product.name}: ${total}\")  # Output: Total price of Cleanser facewash: $2800\n",
        "\n",
        "\n",
        "\n"
      ],
      "metadata": {
        "colab": {
          "base_uri": "https://localhost:8080/"
        },
        "id": "XxTqqzBmTik8",
        "outputId": "f0a059f5-35d9-4736-ce4e-0e2257cef3b6"
      },
      "execution_count": 24,
      "outputs": [
        {
          "output_type": "stream",
          "name": "stdout",
          "text": [
            "Total price of Cleanser facewash: $2800\n"
          ]
        }
      ]
    },
    {
      "cell_type": "code",
      "source": [
        "# Q.16  Create a class Animal with an abstract method sound(). Create two derived classes Cow and Sheep that implement the sound() method.\n",
        "\n",
        "from abc import ABC, abstractmethod\n",
        "\n",
        "class Animal(ABC):  # Abstract base class\n",
        "    @abstractmethod\n",
        "    def sound(self):\n",
        "        pass\n",
        "\n",
        "class Cow(Animal):\n",
        "    def sound(self):\n",
        "        print(\"Moo!\")\n",
        "\n",
        "class Sheep(Animal):\n",
        "    def sound(self):\n",
        "        print(\"Baa!\")\n",
        "\n",
        "\n",
        "cow = Cow()\n",
        "sheep = Sheep()\n",
        "\n",
        "cow.sound()  # Output: Moo!\n",
        "sheep.sound()  # Output: Baa!\n",
        "\n"
      ],
      "metadata": {
        "colab": {
          "base_uri": "https://localhost:8080/"
        },
        "id": "gNUrtR9MUDW8",
        "outputId": "333c55fd-61f3-4f4a-8f88-884d4d3336fc"
      },
      "execution_count": 25,
      "outputs": [
        {
          "output_type": "stream",
          "name": "stdout",
          "text": [
            "Moo!\n",
            "Baa!\n"
          ]
        }
      ]
    },
    {
      "cell_type": "code",
      "source": [
        "# Q.17  Create a class Book with attributes title, author, and year_published. Add a method get_book_info() that returns a formatted string with the book's details.\n",
        "\n",
        "class Book:\n",
        "    def __init__(self, title, author, year_published):\n",
        "        self.title = title\n",
        "        self.author = author\n",
        "        self.year_published = year_published\n",
        "\n",
        "    def get_book_info(self):\n",
        "        return f\"Title: {self.title}\\nAuthor: {self.author}\\nYear Published: {self.year_published}\"\n",
        "\n",
        "book = Book(\"Gitanjali \", \"Rabindranath taigore\", 1910)\n",
        "book_info = book.get_book_info()\n",
        "print(book_info) # Output : Title : Gitanjali\n",
        "                          #Author : Rabindranath taigore\n",
        "                  #Year Published : 1910\n",
        "\n"
      ],
      "metadata": {
        "colab": {
          "base_uri": "https://localhost:8080/"
        },
        "id": "Ig_wOaZFUYJR",
        "outputId": "4f3b3595-ecdb-451c-c05a-c42d41e933a8"
      },
      "execution_count": 27,
      "outputs": [
        {
          "output_type": "stream",
          "name": "stdout",
          "text": [
            "Title: Gitanjali \n",
            "Author: Rabindranath taigore\n",
            "Year Published: 1910\n"
          ]
        }
      ]
    },
    {
      "cell_type": "code",
      "source": [
        "# Q.18 Create a class House with attributes address and price. Create a derived class Mansion that adds an attribute number_of_rooms.\n",
        "\n",
        "class House:\n",
        "    def __init__(self, address, price):\n",
        "        self.address = address\n",
        "        self.price = price\n",
        "\n",
        "class Mansion(House):\n",
        "    def __init__(self, address, price, number_of_rooms):\n",
        "        super().__init__(address, price)  # Call parent class constructor\n",
        "        self.number_of_rooms = number_of_rooms\n",
        "\n",
        "\n",
        "house = House(\"123 Main St\", 500000)\n",
        "mansion = Mansion(\"456 Park Ave\", 2000000, 10)\n",
        "\n",
        "print(f\"House address: {house.address}, Price: ${house.price}\")\n",
        "print(f\"Mansion address: {mansion.address}, Price: ${mansion.price}, Rooms: {mansion.number_of_rooms}\")\n",
        "\n",
        "\n"
      ],
      "metadata": {
        "colab": {
          "base_uri": "https://localhost:8080/"
        },
        "id": "bzDZJH5LVUbS",
        "outputId": "2edac83c-0d23-4d5a-940c-ba7fc2674578"
      },
      "execution_count": 28,
      "outputs": [
        {
          "output_type": "stream",
          "name": "stdout",
          "text": [
            "House address: 123 Main St, Price: $500000\n",
            "Mansion address: 456 Park Ave, Price: $2000000, Rooms: 10\n"
          ]
        }
      ]
    }
  ]
}